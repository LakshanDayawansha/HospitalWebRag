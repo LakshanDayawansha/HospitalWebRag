{
 "cells": [
  {
   "cell_type": "code",
   "execution_count": 1,
   "metadata": {},
   "outputs": [
    {
     "name": "stderr",
     "output_type": "stream",
     "text": [
      "d:\\subject projects\\RAG\\myenv\\Lib\\site-packages\\tqdm\\auto.py:21: TqdmWarning: IProgress not found. Please update jupyter and ipywidgets. See https://ipywidgets.readthedocs.io/en/stable/user_install.html\n",
      "  from .autonotebook import tqdm as notebook_tqdm\n"
     ]
    }
   ],
   "source": [
    "import json\n",
    "import google.generativeai as genai\n",
    "import chromadb\n",
    "from langchain_google_genai import GoogleGenerativeAIEmbeddings\n",
    "from langchain.vectorstores import Chroma\n",
    "from langchain.schema import Document\n",
    "from langchain.text_splitter import RecursiveCharacterTextSplitter\n",
    "from typing import List\n",
    "from dotenv import load_dotenv\n",
    "import os\n"
   ]
  },
  {
   "cell_type": "code",
   "execution_count": 2,
   "metadata": {},
   "outputs": [],
   "source": [
    "\n",
    "class HospitalRAGProcessor:\n",
    "    def __init__(self, api_key: str, db_path: str):\n",
    "        self.api_key = api_key\n",
    "        self.db_path = db_path\n",
    "        self.embeddings = GoogleGenerativeAIEmbeddings(\n",
    "            model=\"models/embedding-001\",\n",
    "            google_api_key=self.api_key,\n",
    "            task_type=\"retrieval_document\"\n",
    "        )\n",
    "        \n",
    "    def prepare_documents(self, data: List[dict]) -> List[Document]:\n",
    "        \"\"\"Convert raw data into LangChain Document objects.\"\"\"\n",
    "        documents = []\n",
    "        \n",
    "        for doc in data:\n",
    "            if not isinstance(doc, dict):\n",
    "                print(f\"Invalid document format: {doc}\")\n",
    "                continue\n",
    "                \n",
    "            # Convert keywords list to string if present\n",
    "            keywords = doc.get(\"metadata\", {}).get(\"keywords\", [])\n",
    "            if isinstance(keywords, list):\n",
    "                keywords = \", \".join(keywords)\n",
    "                \n",
    "            metadata = {\n",
    "                \"title\": doc.get(\"title\", \"\"),\n",
    "                \"category\": doc.get(\"category\", \"\"),\n",
    "                \"keywords\": keywords,\n",
    "                \"id\": doc.get(\"id\", \"\")\n",
    "            }\n",
    "            \n",
    "            # Create LangChain Document object\n",
    "            if content := doc.get(\"content\"):\n",
    "                documents.append(\n",
    "                    Document(\n",
    "                        page_content=content,\n",
    "                        metadata=metadata\n",
    "                    )\n",
    "                )\n",
    "            else:\n",
    "                print(f\"Document {doc.get('id')} has no content. Skipping...\")\n",
    "                \n",
    "        return documents\n",
    "    \n",
    "    def split_documents(self, documents: List[Document]) -> List[Document]:\n",
    "        \"\"\"Split documents into smaller chunks if needed.\"\"\"\n",
    "        text_splitter = RecursiveCharacterTextSplitter(\n",
    "            chunk_size=1000,\n",
    "            chunk_overlap=100,\n",
    "            length_function=len,\n",
    "        )\n",
    "        return text_splitter.split_documents(documents)\n",
    "    \n",
    "    def create_vector_store(self, documents: List[Document], collection_name: str):\n",
    "        \"\"\"Create and persist the vector store.\"\"\"\n",
    "        vector_store = Chroma.from_documents(\n",
    "            documents=documents,\n",
    "            embedding=self.embeddings,\n",
    "            persist_directory=os.path.join(self.db_path, collection_name),\n",
    "            collection_name=collection_name\n",
    "        )\n",
    "        vector_store.persist()\n",
    "        return vector_store\n",
    "    \n",
    "    def process_and_store_documents(self, data: List[dict], collection_name: str):\n",
    "        \"\"\"Main method to process and store documents.\"\"\"\n",
    "        # Prepare documents\n",
    "        documents = self.prepare_documents(data)\n",
    "        \n",
    "        # Split documents if needed\n",
    "        split_docs = self.split_documents(documents)\n",
    "        \n",
    "        # Create and persist vector store\n",
    "        vector_store = self.create_vector_store(split_docs, collection_name)\n",
    "        \n",
    "        return vector_store\n",
    "\n"
   ]
  },
  {
   "cell_type": "code",
   "execution_count": 3,
   "metadata": {},
   "outputs": [],
   "source": [
    "def create_database():\n",
    "    load_dotenv()\n",
    "    \n",
    "    # Load data\n",
    "    with open('data_set.json', 'r') as file:\n",
    "        data = json.load(file)\n",
    "        \n",
    "    \n",
    "    # Initialize processor\n",
    "    processor = HospitalRAGProcessor(\n",
    "        api_key=os.getenv('API_KEY'),\n",
    "        db_path=\"./database\"\n",
    "    )\n",
    "    \n",
    "    # Process and store documents\n",
    "    vector_store = processor.process_and_store_documents(\n",
    "        data=data,\n",
    "        collection_name=\"hospital_documents_langchain\"\n",
    "    )\n",
    "    \n",
    "    print(\"Vector store created successfully!\")\n",
    "    return vector_store\n",
    "\n"
   ]
  },
  {
   "cell_type": "code",
   "execution_count": 4,
   "metadata": {},
   "outputs": [
    {
     "name": "stdout",
     "output_type": "stream",
     "text": [
      "Vector store created successfully!\n"
     ]
    },
    {
     "name": "stderr",
     "output_type": "stream",
     "text": [
      "C:\\Users\\User\\AppData\\Local\\Temp\\ipykernel_37544\\1137882033.py:62: LangChainDeprecationWarning: Since Chroma 0.4.x the manual persistence method is no longer supported as docs are automatically persisted.\n",
      "  vector_store.persist()\n"
     ]
    },
    {
     "data": {
      "text/plain": [
       "<langchain_community.vectorstores.chroma.Chroma at 0x16b77567c50>"
      ]
     },
     "execution_count": 4,
     "metadata": {},
     "output_type": "execute_result"
    }
   ],
   "source": [
    "create_database()"
   ]
  },
  {
   "cell_type": "code",
   "execution_count": 5,
   "metadata": {},
   "outputs": [
    {
     "name": "stderr",
     "output_type": "stream",
     "text": [
      "USER_AGENT environment variable not set, consider setting it to identify your requests.\n"
     ]
    }
   ],
   "source": [
    "import os\n",
    "from langchain.chains import create_history_aware_retriever, create_retrieval_chain\n",
    "from langchain.chains.combine_documents import create_stuff_documents_chain\n",
    "from langchain_chroma import Chroma\n",
    "from langchain_community.chat_message_histories import ChatMessageHistory\n",
    "from langchain_community.document_loaders import WebBaseLoader\n",
    "from langchain_core.chat_history import BaseChatMessageHistory\n",
    "from langchain_core.prompts import ChatPromptTemplate, MessagesPlaceholder\n",
    "from langchain_core.runnables.history import RunnableWithMessageHistory,RunnableLambda\n",
    "from langchain_google_genai import GoogleGenerativeAI,GoogleGenerativeAIEmbeddings\n",
    "from langchain_text_splitters import RecursiveCharacterTextSplitter"
   ]
  },
  {
   "cell_type": "code",
   "execution_count": 14,
   "metadata": {},
   "outputs": [],
   "source": [
    "api_key= os.getenv('API_KEY')\n",
    "db_path=\"./database\"\n",
    "collection_name=\"hospital_documents_langchain\"\n",
    "\n",
    "llm = GoogleGenerativeAI(\n",
    "            model=\"gemini-1.5-flash\",\n",
    "            google_api_key=api_key,\n",
    "            temperature=0.3\n",
    "        )\n",
    "\n",
    "embeddings = GoogleGenerativeAIEmbeddings(\n",
    "            model=\"models/embedding-001\",\n",
    "            google_api_key=api_key,\n",
    "            task_type=\"retrieval_document\"\n",
    "        )\n",
    "\n",
    "retriever = Chroma(\n",
    "            persist_directory= os.path.join(db_path, collection_name),\n",
    "            embedding_function=embeddings,\n",
    "            collection_name=collection_name,\n",
    "        ).as_retriever(search_kwargs={\"k\": 2})"
   ]
  },
  {
   "cell_type": "code",
   "execution_count": 15,
   "metadata": {},
   "outputs": [],
   "source": [
    "### Contextualize question ###\n",
    "contextualize_q_system_prompt = \"\"\"Given a chat history and the latest user question \\\n",
    "which might reference context in the chat history, formulate a standalone question \\\n",
    "which can be understood without the chat history. Do NOT answer the question, \\\n",
    "just reformulate it if needed and otherwise return it as is.\"\"\"\n",
    "contextualize_q_prompt = ChatPromptTemplate.from_messages(\n",
    "    [\n",
    "        (\"system\", contextualize_q_system_prompt),\n",
    "        MessagesPlaceholder(\"chat_history\"),\n",
    "        (\"human\", \"{input}\"),\n",
    "    ]\n",
    ")\n",
    "history_aware_retriever = create_history_aware_retriever(\n",
    "    llm, retriever, contextualize_q_prompt\n",
    ")\n"
   ]
  },
  {
   "cell_type": "code",
   "execution_count": 16,
   "metadata": {},
   "outputs": [],
   "source": [
    "### Answer question ###\n",
    "qa_system_prompt = \"\"\"You are a friendly customer service agent working for Horizon Hospitals Lanka PLC. \n",
    "            Your goal is to assist with any questions using the most relevant and up-to-date information provided in the context below. \n",
    "            When responding, ensure you:\n",
    "            \n",
    "\n",
    "            - Keep your tone warm, professional, and helpful, just as a caring hospital representative would.\n",
    "            - Provide detailed and accurate answers, incorporating only relevant data from the context.\n",
    "            - If the information doesn't directly address the question, acknowledge that politely and offer a general response if appropriate.\n",
    "            - Avoid making up answers if the data does not apply. It's better to admit that the information is not available than to provide inaccurate information and mention to contact hospital via phone.\n",
    "            - Make sure to greet in first message. After that it is not nessasary to greet again.\n",
    "            Context: {context}\n",
    "\n",
    "            Based on the context, craft a thoughtful, precise, and helpful response:\n",
    "            \"\"\"\n",
    "\n",
    "qa_prompt = ChatPromptTemplate.from_messages(\n",
    "    [\n",
    "        (\"system\", qa_system_prompt),\n",
    "        MessagesPlaceholder(\"chat_history\"),\n",
    "        (\"human\", \"{input}\"),\n",
    "    ]\n",
    ")\n",
    "question_answer_chain = create_stuff_documents_chain(llm, qa_prompt)\n",
    "\n",
    "rag_chain = create_retrieval_chain(history_aware_retriever, question_answer_chain)\n",
    "\n"
   ]
  },
  {
   "cell_type": "code",
   "execution_count": 17,
   "metadata": {},
   "outputs": [],
   "source": [
    "### Statefully manage chat history ###\n",
    "store = {}\n",
    "\n",
    "\n",
    "def get_session_history(session_id: str) -> BaseChatMessageHistory:\n",
    "    if session_id not in store:\n",
    "        store[session_id] = ChatMessageHistory()\n",
    "    return store[session_id]\n",
    "\n",
    "\n",
    "conversational_rag_chain = RunnableWithMessageHistory(\n",
    "    rag_chain,\n",
    "    get_session_history,\n",
    "    input_messages_key=\"input\",\n",
    "    history_messages_key=\"chat_history\",\n",
    "    output_messages_key=\"answer\",\n",
    ")"
   ]
  },
  {
   "cell_type": "code",
   "execution_count": 18,
   "metadata": {},
   "outputs": [
    {
     "data": {
      "text/plain": [
       "'Hello!  Certainly, I can help you with that. To schedule an appointment with a doctor, you can visit the hospital website and go to the \"Channel Doctor\" section. You can also call the reception at 011 1234567. The available appointment slots are listed in the \"Channel Doctor\" section on the website. \\n'"
      ]
     },
     "execution_count": 18,
     "metadata": {},
     "output_type": "execute_result"
    }
   ],
   "source": [
    "conversational_rag_chain.invoke(\n",
    "    {\"input\": \"Hello, I want to make an appointment with the doctor. Can you help me?\"},\n",
    "    config={\n",
    "        \"configurable\": {\"session_id\": \"abc123\"}\n",
    "    },  # constructs a key \"abc123\" in `store`.\n",
    ")[\"answer\"]"
   ]
  },
  {
   "cell_type": "markdown",
   "metadata": {},
   "source": [
    "## Evaluation model"
   ]
  },
  {
   "cell_type": "code",
   "execution_count": 21,
   "metadata": {},
   "outputs": [
    {
     "data": {
      "text/html": [
       "<div>\n",
       "<style scoped>\n",
       "    .dataframe tbody tr th:only-of-type {\n",
       "        vertical-align: middle;\n",
       "    }\n",
       "\n",
       "    .dataframe tbody tr th {\n",
       "        vertical-align: top;\n",
       "    }\n",
       "\n",
       "    .dataframe thead th {\n",
       "        text-align: right;\n",
       "    }\n",
       "</style>\n",
       "<table border=\"1\" class=\"dataframe\">\n",
       "  <thead>\n",
       "    <tr style=\"text-align: right;\">\n",
       "      <th></th>\n",
       "      <th>Question</th>\n",
       "      <th>Answer</th>\n",
       "    </tr>\n",
       "  </thead>\n",
       "  <tbody>\n",
       "    <tr>\n",
       "      <th>0</th>\n",
       "      <td>What are the available heart-related services ...</td>\n",
       "      <td>Our Heart Centre offers a wide range of cardia...</td>\n",
       "    </tr>\n",
       "    <tr>\n",
       "      <th>1</th>\n",
       "      <td>What are the room facilities available?</td>\n",
       "      <td>Our hospital provides various room options to ...</td>\n",
       "    </tr>\n",
       "    <tr>\n",
       "      <th>2</th>\n",
       "      <td>How can I make an appointment?</td>\n",
       "      <td>To schedule an appointment, you can visit the ...</td>\n",
       "    </tr>\n",
       "    <tr>\n",
       "      <th>3</th>\n",
       "      <td>Can you give me the steps to make the appointm...</td>\n",
       "      <td>To schedule an appointment via the website, en...</td>\n",
       "    </tr>\n",
       "    <tr>\n",
       "      <th>4</th>\n",
       "      <td>How to cancel and reschedule an appointment?</td>\n",
       "      <td>To cancel an appointment, click the 'Cancel Ap...</td>\n",
       "    </tr>\n",
       "    <tr>\n",
       "      <th>5</th>\n",
       "      <td>Where is your hospital located?</td>\n",
       "      <td>Our hospital is located at Horizon Health PLC,...</td>\n",
       "    </tr>\n",
       "  </tbody>\n",
       "</table>\n",
       "</div>"
      ],
      "text/plain": [
       "                                            Question  \\\n",
       "0  What are the available heart-related services ...   \n",
       "1            What are the room facilities available?   \n",
       "2                     How can I make an appointment?   \n",
       "3  Can you give me the steps to make the appointm...   \n",
       "4       How to cancel and reschedule an appointment?   \n",
       "5                    Where is your hospital located?   \n",
       "\n",
       "                                              Answer  \n",
       "0  Our Heart Centre offers a wide range of cardia...  \n",
       "1  Our hospital provides various room options to ...  \n",
       "2  To schedule an appointment, you can visit the ...  \n",
       "3  To schedule an appointment via the website, en...  \n",
       "4  To cancel an appointment, click the 'Cancel Ap...  \n",
       "5  Our hospital is located at Horizon Health PLC,...  "
      ]
     },
     "execution_count": 21,
     "metadata": {},
     "output_type": "execute_result"
    }
   ],
   "source": [
    "import pandas as pd\n",
    "\n",
    "# Define the question-answer pairs\n",
    "data = {\n",
    "    'Question': [\n",
    "        \"What are the available heart-related services in your hospital?\",\n",
    "        \"What are the room facilities available?\",\n",
    "        \"How can I make an appointment?\",\n",
    "        \"Can you give me the steps to make the appointment via website?\",\n",
    "        \"How to cancel and reschedule an appointment?\",\n",
    "        \"Where is your hospital located?\"\n",
    "    ],\n",
    "    'Answer': [\n",
    "        \"Our Heart Centre offers a wide range of cardiac services including angiograms, stenting procedures, device closure, pacemaker placements, cardiac resynchronization therapy, coronary artery bypass graft surgery (CABG), valve repairs, and congenital heart disease correction surgeries. We also have a state-of-the-art catheterization laboratory and facilities like a coronary care unit (CCU), intensive care units, and expert nursing care.\",\n",
    "        \"Our hospital provides various room options to suit different needs, including private rooms with en-suite bathrooms, semi-private rooms, and modern amenities like comfortable furnishings and entertainment facilities. The focus is on privacy, hygiene, and patient well-being in all rooms.\",\n",
    "        \"To schedule an appointment, you can visit the hospital website’s doctor section or call the reception at 011 1234567. Available slots are listed in the doctor section.\",\n",
    "        \"To schedule an appointment via the website, enter your full name, email, and phone number in the respective fields. Then, select the department and doctor from dropdowns. Choose a preferred date and time for the appointment, provide a reason for the visit, and click Submit to confirm. You’ll receive a confirmation email afterward.\",\n",
    "        \"To cancel an appointment, click the 'Cancel Appointment' link in your confirmation email. For rescheduling, click the 'Reschedule Appointment' link in the email and select a new date and time, then submit the form. You’ll receive an updated confirmation email.\",\n",
    "        \"Our hospital is located at Horizon Health PLC, N0.15, Park Road, Colombo 05, Sri Lanka. You can contact us via telephone at 011 1234567 or email us at info@HorizonHealth.com.\"\n",
    "    ]\n",
    "}\n",
    "\n",
    "# Create a DataFrame\n",
    "df = pd.DataFrame(data)\n",
    "df\n"
   ]
  },
  {
   "cell_type": "code",
   "execution_count": 24,
   "metadata": {},
   "outputs": [
    {
     "name": "stdout",
     "output_type": "stream",
     "text": [
      "['What are the available heart-related services in your hospital?', 'What are the room facilities available?', 'How can I make an appointment?', 'Can you give me the steps to make the appointment via website?', 'How to cancel and reschedule an appointment?', 'Where is your hospital located?']\n",
      "['Our Heart Centre offers a wide range of cardiac services including angiograms, stenting procedures, device closure, pacemaker placements, cardiac resynchronization therapy, coronary artery bypass graft surgery (CABG), valve repairs, and congenital heart disease correction surgeries. We also have a state-of-the-art catheterization laboratory and facilities like a coronary care unit (CCU), intensive care units, and expert nursing care.', 'Our hospital provides various room options to suit different needs, including private rooms with en-suite bathrooms, semi-private rooms, and modern amenities like comfortable furnishings and entertainment facilities. The focus is on privacy, hygiene, and patient well-being in all rooms.', 'To schedule an appointment, you can visit the hospital website’s doctor section or call the reception at 011 1234567. Available slots are listed in the doctor section.', 'To schedule an appointment via the website, enter your full name, email, and phone number in the respective fields. Then, select the department and doctor from dropdowns. Choose a preferred date and time for the appointment, provide a reason for the visit, and click Submit to confirm. You’ll receive a confirmation email afterward.', \"To cancel an appointment, click the 'Cancel Appointment' link in your confirmation email. For rescheduling, click the 'Reschedule Appointment' link in the email and select a new date and time, then submit the form. You’ll receive an updated confirmation email.\", 'Our hospital is located at Horizon Health PLC, N0.15, Park Road, Colombo 05, Sri Lanka. You can contact us via telephone at 011 1234567 or email us at info@HorizonHealth.com.']\n"
     ]
    }
   ],
   "source": [
    "questions = data[\"Question\"] \n",
    "ground_truth = data[\"Answer\"]  \n",
    "\n",
    "\n",
    "print(questions)\n",
    "print(ground_truth)"
   ]
  },
  {
   "cell_type": "code",
   "execution_count": 25,
   "metadata": {},
   "outputs": [],
   "source": [
    "data = {\"question\": [], \"answer\": [], \"contexts\": [], \"ground_truth\": ground_truth}"
   ]
  },
  {
   "cell_type": "code",
   "execution_count": 34,
   "metadata": {},
   "outputs": [
    {
     "ename": "",
     "evalue": "",
     "output_type": "error",
     "traceback": [
      "\u001b[1;31mThe Kernel crashed while executing code in the current cell or a previous cell. \n",
      "\u001b[1;31mPlease review the code in the cell(s) to identify a possible cause of the failure. \n",
      "\u001b[1;31mClick <a href='https://aka.ms/vscodeJupyterKernelCrash'>here</a> for more info. \n",
      "\u001b[1;31mView Jupyter <a href='command:jupyter.viewOutput'>log</a> for further details."
     ]
    }
   ],
   "source": [
    "for query in questions:\n",
    "    data[\"question\"].append(query)\n",
    "    \n",
    "    # Get the response from conversational RAG\n",
    "    result = conversational_rag_chain.invoke(\n",
    "        {\"input\": query},\n",
    "        config={\"configurable\": {\"session_id\": \"abc123\"}}\n",
    "    )\n",
    "    \n",
    "    # Collect answer data\n",
    "    answer = result.get(\"answer\", \"\")\n",
    "    data[\"answer\"].append(answer)\n",
    "    \n",
    "    # Collect context data\n",
    "    contexts = retriever.get_relevant_documents(query)\n",
    "\n",
    "    data[\"contexts\"].append(contexts)\n",
    "\n",
    "   "
   ]
  },
  {
   "cell_type": "code",
   "execution_count": 33,
   "metadata": {},
   "outputs": [
    {
     "data": {
      "text/plain": [
       "{'question': ['What are the available heart-related services in your hospital?',\n",
       "  'What are the available heart-related services in your hospital?',\n",
       "  'What are the available heart-related services in your hospital?',\n",
       "  'What are the room facilities available?',\n",
       "  'How can I make an appointment?',\n",
       "  'Can you give me the steps to make the appointment via website?',\n",
       "  'How to cancel and reschedule an appointment?',\n",
       "  'Where is your hospital located?',\n",
       "  'What are the available heart-related services in your hospital?',\n",
       "  'What are the room facilities available?',\n",
       "  'How can I make an appointment?',\n",
       "  'Can you give me the steps to make the appointment via website?',\n",
       "  'How to cancel and reschedule an appointment?',\n",
       "  'Where is your hospital located?',\n",
       "  'What are the available heart-related services in your hospital?',\n",
       "  'What are the room facilities available?',\n",
       "  'How can I make an appointment?',\n",
       "  'Can you give me the steps to make the appointment via website?',\n",
       "  'How to cancel and reschedule an appointment?',\n",
       "  'Where is your hospital located?'],\n",
       " 'answer': ['Our Heart Centre is equipped with a wide range of services to address various heart conditions. These include:\\n\\n**Diagnostic Services:**\\n\\n* **Catheterization Laboratory (Cath Lab):** Equipped with state-of-the-art diagnostic imaging equipment.\\n* **Electrocardiogram (ECG)**\\n* **Echocardiography**\\n* **Exercise stress test (Treadmill test)**\\n* **Holter monitor**\\n* **Stress Echo (Dobutamine)**\\n* **Ambulatory BP Tec 99 Scan (in collaboration with Nuclear Medicine Department)**\\n\\n**Interventional Procedures:**\\n\\n* **Angiogram**\\n* **Angioplasty (Stent placement)**\\n* **Device Closure**\\n* **Valvuloplasty**\\n* **Placement of pacemakers (PPM) and implantable cardio defibrillators for abnormal heart rhythms (ICD)**\\n* **Cardiac Re synchronization Therapy (CRT)**\\n* **Rotablator**\\n* **Fractional Flow Reserve (FFR) Measurement**\\n\\n**Surgical Interventions:**\\n\\n* **Coronary Artery Bypass Graft (CABG)**\\n* **On pump/ off pump**\\n* **Redo Surgery**\\n* **Cardiac Total Revascularisation**\\n* **Aortic Dissection**\\n* **Valve/Arterial Switch Procedures**\\n* **Atrial Septal Defect (ASD)**\\n* **Tetralogy of Fallot (TOF)**\\n* **Valve repair and replacement surgery**\\n* **Surgical Closure of Atrial Septal Defect**\\n* **Congenital Heart Disease Correction Surgery**\\n\\n**Support Services:**\\n\\n* **Blood Bank**\\n* **Physiotherapist**\\n* **Dietitian**\\n* **Pharmacist**\\n* **Laboratory services**\\n\\nWe also offer dedicated facilities like a 5-bed Coronary Care Unit (CCU), a 7-bed step-down ICU, and a 4-bed HDU. Our team provides individually-focused and expert nursing care, pre and post-operative patient counseling by our Heart Specialists, and physiotherapy services. \\n',\n",
       "  'The information provided does not include details about room facilities. However, we can assure you that no matter the room type, Horizon Hospital prioritizes hygiene, safety, and patient well-being. Our dedicated staff is committed to delivering compassionate care, ensuring a comfortable and reassuring stay for all patients. To learn more about our facilities, please visit the facilities section of our website. \\n',\n",
       "  'To schedule an appointment with a doctor, you can visit the hospital website and go to the \"Channel Doctor\" section. You can also call the reception at 011 1234567. The available appointment slots are listed in the \"Channel Doctor\" section on the website. \\n',\n",
       "  'To schedule an appointment online, please visit our website and go to the \"Channel Doctor\" section.  Here\\'s how to proceed:\\n\\n1. **Select a Doctor:** Choose the doctor you wish to see from the list of available doctors.\\n2. **Choose a Date:** Click on the calendar icon to select a convenient date for your appointment. Make sure to pick a date when the doctor is available. If the date you prefer is unavailable, we will suggest alternate dates.\\n3. **Choose a Time:** Select a time slot that fits your schedule from the available options.\\n4. **Reason for Visit:** Briefly describe the reason for your appointment. This helps the doctor prepare for your visit.\\n5. **Submit:** After ensuring all the fields are filled correctly, click the \"Submit\" button at the bottom of the form. \\n6. **Confirmation:** You will receive a confirmation email with the details of your appointment. \\n\\nIf you need to make any changes, you can contact the hospital using the information provided in the confirmation email. \\n',\n",
       "  \"To cancel or reschedule your appointment, you can follow the link in the confirmation email you received when you scheduled the appointment. To cancel, click the 'Cancel Appointment' link, confirm the cancellation, and you'll receive an email confirming the cancellation. To reschedule, click the 'Reschedule Appointment' link, choose a new date and time, and submit the form. You'll receive an updated confirmation email with the new appointment details. If you have any issues or need assistance, feel free to contact the hospital directly using the contact information provided in the confirmation email or call the reception at 011 1234567. You need your appointment number to reschedule or cancel it. \\n\",\n",
       "  \"The information provided doesn't include the hospital's address. To get the location details, please visit our website or call the reception at 011 1234567. \\n\",\n",
       "  '',\n",
       "  '',\n",
       "  '',\n",
       "  '',\n",
       "  '',\n",
       "  '',\n",
       "  'Our Heart Centre is equipped with a wide range of services to address various heart conditions. These include:\\n\\n**Diagnostic Services:**\\n\\n* **Catheterization Laboratory (Cath Lab):** Equipped with state-of-the-art diagnostic imaging equipment.\\n* **Electrocardiogram (ECG)**\\n* **Echocardiography**\\n* **Exercise stress test (Treadmill test)**\\n* **Holter monitor**\\n* **Stress Echo (Dobutamine)**\\n* **Ambulatory BP Tec 99 Scan (in collaboration with Nuclear Medicine Department)**\\n\\n**Interventional Procedures:**\\n\\n* **Angiogram**\\n* **Angioplasty (Stent placement)**\\n* **Device Closure**\\n* **Valvuloplasty**\\n* **Placement of pacemakers (PPM) and implantable cardio defibrillators for abnormal heart rhythms (ICD)**\\n* **Cardiac Re synchronization Therapy (CRT)**\\n* **Rotablator**\\n* **Fractional Flow Reserve (FFR) Measurement**\\n\\n**Surgical Interventions:**\\n\\n* **Coronary Artery Bypass Graft (CABG)**\\n* **On pump/ off pump**\\n* **Redo Surgery**\\n* **Cardiac Total Revascularisation**\\n* **Aortic Dissection**\\n* **Valve/Arterial Switch Procedures**\\n* **Atrial Septal Defect (ASD)**\\n* **Tetralogy of Fallot (TOF)**\\n* **Valve repair and replacement surgery**\\n* **Surgical Closure of Atrial Septal Defect**\\n* **Congenital Heart Disease Correction Surgery**\\n\\n**Support Services:**\\n\\n* **Blood Bank**\\n* **Physiotherapist**\\n* **Dietitian**\\n* **Pharmacist**\\n* **Laboratory services**\\n\\nWe also offer dedicated facilities like a 5-bed Coronary Care Unit (CCU), a 7-bed step-down ICU, and a 4-bed HDU. Our team provides individually-focused and expert nursing care, pre and post-operative patient counseling by our Heart Specialists, and physiotherapy services. \\n',\n",
       "  'The information provided does not include details about room facilities. However, we can assure you that no matter the room type, Horizon Hospital prioritizes hygiene, safety, and patient well-being. Our dedicated staff is committed to delivering compassionate care, ensuring a comfortable and reassuring stay for all patients. To learn more about our facilities, please visit the facilities section of our website. \\n',\n",
       "  'To schedule an appointment with a doctor, you can visit the hospital website and go to the \"Channel Doctor\" section. You can also call the reception at 011 1234567. The available appointment slots are listed in the \"Channel Doctor\" section on the website. \\n',\n",
       "  'To schedule an appointment online, please visit our website and go to the \"Channel Doctor\" section.  Here\\'s how to proceed:\\n\\n1. **Select a Doctor:** Choose the doctor you wish to see from the list of available doctors.\\n2. **Choose a Date:** Click on the calendar icon to select a convenient date for your appointment. Make sure to pick a date when the doctor is available. If the date you prefer is unavailable, we will suggest alternate dates.\\n3. **Choose a Time:** Select a time slot that fits your schedule from the available options.\\n4. **Reason for Visit:** Briefly describe the reason for your appointment. This helps the doctor prepare for your visit.\\n5. **Submit:** After ensuring all the fields are filled correctly, click the \"Submit\" button at the bottom of the form. \\n6. **Confirmation:** You will receive a confirmation email with the details of your appointment. \\n\\nIf you need to make any changes, you can contact the hospital using the information provided in the confirmation email. \\n',\n",
       "  \"To cancel or reschedule your appointment, you can follow the link in the confirmation email you received when you scheduled the appointment. To cancel, click the 'Cancel Appointment' link, confirm the cancellation, and you'll receive an email confirming the cancellation. To reschedule, click the 'Reschedule Appointment' link, choose a new date and time, and submit the form. You'll receive an updated confirmation email with the new appointment details. If you have any issues or need assistance, feel free to contact the hospital directly using the contact information provided in the confirmation email or call the reception at 011 1234567. You need your appointment number to reschedule or cancel it. \\n\",\n",
       "  \"The information provided doesn't include the hospital's address. To get the location details, please visit our website or call the reception at 011 1234567. \\n\"],\n",
       " 'contexts': [[],\n",
       "  [],\n",
       "  [],\n",
       "  [],\n",
       "  [],\n",
       "  [],\n",
       "  [],\n",
       "  [],\n",
       "  [],\n",
       "  [],\n",
       "  [],\n",
       "  [],\n",
       "  [[Document(metadata={'category': 'special_services', 'id': '21', 'keywords': 'heart centre, special services', 'title': 'Heart Centre'}, page_content='required facilities on the same floor for easy access. Our Heart Centre is equipped with dedicated facilities and equipment including the following: A state-of-the-art catheterization laboratory or cath lab, with diagnostic imaging equipment Two cardiac theatres Blood bank state-of-the-art 5-bed Coronary Care Unit (CCU) Availability of a 7 bed step-down ICU and a 4-bed HDU Individually-focused and expert nursing care Patient counseling by our Heart Specialists (pre and post-operative) with all day access Physiotherapy (Pre and Post-operative) Our servises ngiogram Angioplasty (Stent placement) Device Closure Valvuloplasty Placement of pacemakers (PPM) and implantable cardio defibrillators for abnormal heart rhythms (ICD) Cardiac Re synchronization Therapy (CRT) Rotablator Fractional Flow Reserve (FFR) Measurement. Surgical Interventions Coronary Artery Bypass Graft (CABG) On pump/ off pump Redo Surgery Cardiac Total Revascularisation Aortic Dissection Valve/Arterial Switch Procedures'),\n",
       "    Document(metadata={'category': 'special_services', 'id': '21', 'keywords': 'heart centre, special services', 'title': 'Heart Centre'}, page_content='Redo Surgery Cardiac Total Revascularisation Aortic Dissection Valve/Arterial Switch Procedures Atrial Septal Defect (ASD) Tetralogy of Fallot (TOF) Valve repair and replacement surgery Surgical Closure of Atrial Septal Defect Congenital Heart Disease Correction Surgery Investigations Electrocardiogram (ECG) Echocardiography Exercise stress test (Treadmill test) Holter monitor Stress Echo (Dobutamine) Ambulatory BP Tec 99 Scan (in collboration with Nuclear Medicine Department) Support Services Blood Bank Physiotherapist Dietitian Pharmacist Laboratory services')]],\n",
       "  [[Document(metadata={'category': 'facilities', 'id': '8', 'keywords': 'facilities, rooms, privacy', 'title': 'hospital facilities information'}, page_content='matter the room type, Horizon Hospital places the highest priority on hygiene, safety, and patient well-being. Our dedicated staff is committed to delivering compassionate care, ensuring that every patient experiences a comfortable and reassuring stay as they progress toward recovery. To learn more about our facilities, please visit the facilities section of our website.'),\n",
       "    Document(metadata={'category': 'Appointment', 'id': '1', 'keywords': 'schedule, appointment', 'title': 'Scheduling an Appointment with a doctor'}, page_content='To schedule an appointment with a doctor, visit the hospital website channel doctor section or call the reception at 011 1234567. Available slots are listed in the channel doctor section.')]],\n",
       "  [[Document(metadata={'category': 'Appointment', 'id': '3', 'keywords': 'cancel, reschedule', 'title': 'How to calcel or reschedule an appointment'}, page_content='To reschedule or calcel an appointment, you can follow the link in the confirmation email or call the reception at 011 1234567.You need your appointment number to reschedule or cancel it.'),\n",
       "    Document(metadata={'category': 'Appointment', 'id': '1', 'keywords': 'schedule, appointment', 'title': 'Scheduling an Appointment with a doctor'}, page_content='To schedule an appointment with a doctor, visit the hospital website channel doctor section or call the reception at 011 1234567. Available slots are listed in the channel doctor section.')]],\n",
       "  [[Document(metadata={'category': 'Appointment', 'id': '4', 'keywords': 'cancel, reschedule, guidance', 'title': 'guidance to calcel or reschedule an appointment'}, page_content='have any issues or need assistance, feel free to contact the hospital directly using the contact information provided in the email.'),\n",
       "    Document(metadata={'category': 'Appointment', 'id': '3', 'keywords': 'cancel, reschedule', 'title': 'How to calcel or reschedule an appointment'}, page_content='To reschedule or calcel an appointment, you can follow the link in the confirmation email or call the reception at 011 1234567.You need your appointment number to reschedule or cancel it.')]],\n",
       "  [[Document(metadata={'category': 'Appointment', 'id': '3', 'keywords': 'cancel, reschedule', 'title': 'How to calcel or reschedule an appointment'}, page_content='To reschedule or calcel an appointment, you can follow the link in the confirmation email or call the reception at 011 1234567.You need your appointment number to reschedule or cancel it.'),\n",
       "    Document(metadata={'category': 'Appointment', 'id': '4', 'keywords': 'cancel, reschedule, guidance', 'title': 'guidance to calcel or reschedule an appointment'}, page_content=\"If you need to cancel or reschedule your appointment, the process is simple. To cancel, locate the confirmation email you received when you scheduled the appointment. Inside, you'll find a link or button labeled 'Cancel Appointment.' Click this, and youâ€™ll be taken to a page where you can confirm the cancellation. Once confirmed, your appointment will be canceled, and you'll receive an email confirming the cancellation.  To reschedule, follow a similar process. In the confirmation email, click the 'Reschedule Appointment' link. This will take you to a form where you can choose a new date and time for your appointment. Simply select a new date from the calendar and choose a time slot that works best for you. Once you've selected the new time, submit the form, and your appointment will be updated. Youâ€™ll receive an updated confirmation email with the new appointment details. If you have any issues or need assistance, feel free to contact the hospital directly using the contact\")]],\n",
       "  [[Document(metadata={'category': 'Appointment', 'id': '4', 'keywords': 'cancel, reschedule, guidance', 'title': 'guidance to calcel or reschedule an appointment'}, page_content='have any issues or need assistance, feel free to contact the hospital directly using the contact information provided in the email.'),\n",
       "    Document(metadata={'category': 'contact_information', 'id': '7', 'keywords': 'telephone, information', 'title': 'general contact information'}, page_content='Adress:Horizon Health PLC,N0.15,Park Road, Colombo 05, Sri Lanka, Telephone: 011 1234567, Email: info@HorizonHealth.com')]]],\n",
       " 'ground_truth': ['Our Heart Centre offers a wide range of cardiac services including angiograms, stenting procedures, device closure, pacemaker placements, cardiac resynchronization therapy, coronary artery bypass graft surgery (CABG), valve repairs, and congenital heart disease correction surgeries. We also have a state-of-the-art catheterization laboratory and facilities like a coronary care unit (CCU), intensive care units, and expert nursing care.',\n",
       "  'Our hospital provides various room options to suit different needs, including private rooms with en-suite bathrooms, semi-private rooms, and modern amenities like comfortable furnishings and entertainment facilities. The focus is on privacy, hygiene, and patient well-being in all rooms.',\n",
       "  'To schedule an appointment, you can visit the hospital website’s doctor section or call the reception at 011 1234567. Available slots are listed in the doctor section.',\n",
       "  'To schedule an appointment via the website, enter your full name, email, and phone number in the respective fields. Then, select the department and doctor from dropdowns. Choose a preferred date and time for the appointment, provide a reason for the visit, and click Submit to confirm. You’ll receive a confirmation email afterward.',\n",
       "  \"To cancel an appointment, click the 'Cancel Appointment' link in your confirmation email. For rescheduling, click the 'Reschedule Appointment' link in the email and select a new date and time, then submit the form. You’ll receive an updated confirmation email.\",\n",
       "  'Our hospital is located at Horizon Health PLC, N0.15, Park Road, Colombo 05, Sri Lanka. You can contact us via telephone at 011 1234567 or email us at info@HorizonHealth.com.']}"
      ]
     },
     "execution_count": 33,
     "metadata": {},
     "output_type": "execute_result"
    }
   ],
   "source": [
    "data"
   ]
  },
  {
   "cell_type": "code",
   "execution_count": null,
   "metadata": {},
   "outputs": [],
   "source": []
  },
  {
   "cell_type": "code",
   "execution_count": null,
   "metadata": {},
   "outputs": [],
   "source": []
  }
 ],
 "metadata": {
  "kernelspec": {
   "display_name": "myenv",
   "language": "python",
   "name": "python3"
  },
  "language_info": {
   "codemirror_mode": {
    "name": "ipython",
    "version": 3
   },
   "file_extension": ".py",
   "mimetype": "text/x-python",
   "name": "python",
   "nbconvert_exporter": "python",
   "pygments_lexer": "ipython3",
   "version": "3.12.2"
  }
 },
 "nbformat": 4,
 "nbformat_minor": 2
}
